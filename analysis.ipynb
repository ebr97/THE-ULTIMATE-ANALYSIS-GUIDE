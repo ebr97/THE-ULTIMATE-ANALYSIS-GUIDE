{
 "cells": [
  {
   "cell_type": "markdown",
   "metadata": {},
   "source": [
    "# <b>Real Estates Market</b> analysis project - <i> Analyzing facts</i>\n",
    "\n",
    "\n",
    "\n",
    "## A little bit about the project\n",
    "I perform an analysis on real estates market in order to gain insights about apartments with two rooms. \n",
    "Data used in this analysis it was scraped on <b>23 Feb 2022</b> from <b>https://www.storia.ro/</b> website.\n",
    "\n",
    "## A little bit about this file, which is the third and the final step\n",
    "Providing an overview about real estates market near Bucharest city with focus on the price, year of the building and the distribution of the flats along floors."
   ]
  },
  {
   "cell_type": "markdown",
   "metadata": {},
   "source": [
    "### Importing the libraries"
   ]
  },
  {
   "cell_type": "code",
   "execution_count": 1,
   "metadata": {},
   "outputs": [],
   "source": [
    "import numpy as np\n",
    "import pandas as pd\n",
    "import matplotlib.pyplot as plt\n",
    "import seaborn as sns\n",
    "%matplotlib inline"
   ]
  },
  {
   "cell_type": "markdown",
   "metadata": {},
   "source": [
    "Creating the data frame"
   ]
  },
  {
   "cell_type": "code",
   "execution_count": 2,
   "metadata": {},
   "outputs": [
    {
     "data": {
      "text/html": [
       "<div>\n",
       "<style scoped>\n",
       "    .dataframe tbody tr th:only-of-type {\n",
       "        vertical-align: middle;\n",
       "    }\n",
       "\n",
       "    .dataframe tbody tr th {\n",
       "        vertical-align: top;\n",
       "    }\n",
       "\n",
       "    .dataframe thead th {\n",
       "        text-align: right;\n",
       "    }\n",
       "</style>\n",
       "<table border=\"1\" class=\"dataframe\">\n",
       "  <thead>\n",
       "    <tr style=\"text-align: right;\">\n",
       "      <th></th>\n",
       "      <th>title</th>\n",
       "      <th>price</th>\n",
       "      <th>details</th>\n",
       "      <th>building_seller</th>\n",
       "      <th>agency</th>\n",
       "      <th>link</th>\n",
       "      <th>built_area</th>\n",
       "      <th>usable_area</th>\n",
       "      <th>type</th>\n",
       "      <th>year</th>\n",
       "      <th>floor</th>\n",
       "      <th>orientation</th>\n",
       "    </tr>\n",
       "  </thead>\n",
       "  <tbody>\n",
       "    <tr>\n",
       "      <th>0</th>\n",
       "      <td>Vand apartament 2 camere Militari Residence mo...</td>\n",
       "      <td>36000</td>\n",
       "      <td>['49 m²', '45', '2', 'locuinta utilizata', 'ap...</td>\n",
       "      <td>Andrei</td>\n",
       "      <td>Proprietar</td>\n",
       "      <td>https://www.storia.ro/ro/oferta/vand-apartamen...</td>\n",
       "      <td>49.00</td>\n",
       "      <td>45.00</td>\n",
       "      <td>utilizat</td>\n",
       "      <td>2014</td>\n",
       "      <td>Mansarda</td>\n",
       "      <td>vest</td>\n",
       "    </tr>\n",
       "    <tr>\n",
       "      <th>1</th>\n",
       "      <td>Apartament 2 camere (DIRECT DEZVOLTATOR)- 5100...</td>\n",
       "      <td>51000</td>\n",
       "      <td>['64 m²', '51', '2', 'locuinta noua', 'apartam...</td>\n",
       "      <td>Perfect Design SRL</td>\n",
       "      <td>OFERTA DEZVOLTATORULUI</td>\n",
       "      <td>https://www.storia.ro/ro/oferta/apartament-2-c...</td>\n",
       "      <td>64.00</td>\n",
       "      <td>51.00</td>\n",
       "      <td>nou</td>\n",
       "      <td>2021</td>\n",
       "      <td>1</td>\n",
       "      <td>other</td>\n",
       "    </tr>\n",
       "    <tr>\n",
       "      <th>2</th>\n",
       "      <td>Apartament 2 camere (DIRECT DEZVOLTATOR)- 5100...</td>\n",
       "      <td>51000</td>\n",
       "      <td>['64 m²', '51', '2', 'locuinta noua', 'apartam...</td>\n",
       "      <td>Perfect Design SRL</td>\n",
       "      <td>OFERTA DEZVOLTATORULUI</td>\n",
       "      <td>https://www.storia.ro/ro/oferta/apartament-2-c...</td>\n",
       "      <td>64.00</td>\n",
       "      <td>51.00</td>\n",
       "      <td>nou</td>\n",
       "      <td>2021</td>\n",
       "      <td>3</td>\n",
       "      <td>other</td>\n",
       "    </tr>\n",
       "    <tr>\n",
       "      <th>3</th>\n",
       "      <td>NOU ! Apartament 2 camere Premium | Luminos | ...</td>\n",
       "      <td>46693</td>\n",
       "      <td>['54 m²', '47.89', '2', 'apartament', 'decoman...</td>\n",
       "      <td>Andrei Alexandrescu</td>\n",
       "      <td>Agentie</td>\n",
       "      <td>https://www.storia.ro/ro/oferta/nou-apartament...</td>\n",
       "      <td>54.00</td>\n",
       "      <td>47.89</td>\n",
       "      <td>nu e specificat</td>\n",
       "      <td>2022</td>\n",
       "      <td>1</td>\n",
       "      <td>other</td>\n",
       "    </tr>\n",
       "    <tr>\n",
       "      <th>4</th>\n",
       "      <td>Apartament 2 camere Chiajna - Militari | 0% Co...</td>\n",
       "      <td>46693</td>\n",
       "      <td>['54 m²', '47.89', '2', 'apartament', 'decoman...</td>\n",
       "      <td>Cristian Draghici</td>\n",
       "      <td>Agentie</td>\n",
       "      <td>https://www.storia.ro/ro/oferta/apartament-2-c...</td>\n",
       "      <td>54.00</td>\n",
       "      <td>47.89</td>\n",
       "      <td>nu e specificat</td>\n",
       "      <td>2022</td>\n",
       "      <td>2</td>\n",
       "      <td>other</td>\n",
       "    </tr>\n",
       "    <tr>\n",
       "      <th>...</th>\n",
       "      <td>...</td>\n",
       "      <td>...</td>\n",
       "      <td>...</td>\n",
       "      <td>...</td>\n",
       "      <td>...</td>\n",
       "      <td>...</td>\n",
       "      <td>...</td>\n",
       "      <td>...</td>\n",
       "      <td>...</td>\n",
       "      <td>...</td>\n",
       "      <td>...</td>\n",
       "      <td>...</td>\n",
       "    </tr>\n",
       "    <tr>\n",
       "      <th>977</th>\n",
       "      <td>MILITARI RESIDENCE - Apartament 2 camere</td>\n",
       "      <td>45125</td>\n",
       "      <td>['54,15 m²', '47.5', '2', 'locuinta noua', 'ap...</td>\n",
       "      <td>Militari Residence</td>\n",
       "      <td>Agentie</td>\n",
       "      <td>https://www.storia.ro/ro/oferta/militari-resid...</td>\n",
       "      <td>54.15</td>\n",
       "      <td>47.50</td>\n",
       "      <td>nou</td>\n",
       "      <td>2020</td>\n",
       "      <td>7</td>\n",
       "      <td>other</td>\n",
       "    </tr>\n",
       "    <tr>\n",
       "      <th>978</th>\n",
       "      <td>MILITARI RESIDENCE - Apartament 2 camere</td>\n",
       "      <td>45125</td>\n",
       "      <td>['54,15 m²', '47.5', '2', 'locuinta noua', 'ap...</td>\n",
       "      <td>Militari Residence</td>\n",
       "      <td>Agentie</td>\n",
       "      <td>https://www.storia.ro/ro/oferta/militari-resid...</td>\n",
       "      <td>54.15</td>\n",
       "      <td>47.50</td>\n",
       "      <td>nou</td>\n",
       "      <td>2020</td>\n",
       "      <td>1</td>\n",
       "      <td>other</td>\n",
       "    </tr>\n",
       "    <tr>\n",
       "      <th>979</th>\n",
       "      <td>MILITARI RESIDENCE - Apartament 2 camere</td>\n",
       "      <td>44175</td>\n",
       "      <td>['53,01 m²', '46.5', '2', 'locuinta noua', 'ap...</td>\n",
       "      <td>Militari Residence</td>\n",
       "      <td>Agentie</td>\n",
       "      <td>https://www.storia.ro/ro/oferta/militari-resid...</td>\n",
       "      <td>53.01</td>\n",
       "      <td>46.50</td>\n",
       "      <td>nou</td>\n",
       "      <td>2020</td>\n",
       "      <td>8</td>\n",
       "      <td>other</td>\n",
       "    </tr>\n",
       "    <tr>\n",
       "      <th>980</th>\n",
       "      <td>MILITARI RESIDENCE - Apartament 2 camere</td>\n",
       "      <td>44175</td>\n",
       "      <td>['53,01 m²', '46.5', '2', 'locuinta noua', 'ap...</td>\n",
       "      <td>Militari Residence</td>\n",
       "      <td>Agentie</td>\n",
       "      <td>https://www.storia.ro/ro/oferta/militari-resid...</td>\n",
       "      <td>53.01</td>\n",
       "      <td>46.50</td>\n",
       "      <td>nou</td>\n",
       "      <td>2020</td>\n",
       "      <td>7</td>\n",
       "      <td>other</td>\n",
       "    </tr>\n",
       "    <tr>\n",
       "      <th>981</th>\n",
       "      <td>MILITARI RESIDENCE - Apartament 2 camere</td>\n",
       "      <td>44175</td>\n",
       "      <td>['53,01 m²', '46.5', '2', 'locuinta noua', 'ap...</td>\n",
       "      <td>Militari Residence</td>\n",
       "      <td>Agentie</td>\n",
       "      <td>https://www.storia.ro/ro/oferta/militari-resid...</td>\n",
       "      <td>53.01</td>\n",
       "      <td>46.50</td>\n",
       "      <td>nou</td>\n",
       "      <td>2020</td>\n",
       "      <td>3</td>\n",
       "      <td>other</td>\n",
       "    </tr>\n",
       "  </tbody>\n",
       "</table>\n",
       "<p>982 rows × 12 columns</p>\n",
       "</div>"
      ],
      "text/plain": [
       "                                                 title  price  \\\n",
       "0    Vand apartament 2 camere Militari Residence mo...  36000   \n",
       "1    Apartament 2 camere (DIRECT DEZVOLTATOR)- 5100...  51000   \n",
       "2    Apartament 2 camere (DIRECT DEZVOLTATOR)- 5100...  51000   \n",
       "3    NOU ! Apartament 2 camere Premium | Luminos | ...  46693   \n",
       "4    Apartament 2 camere Chiajna - Militari | 0% Co...  46693   \n",
       "..                                                 ...    ...   \n",
       "977           MILITARI RESIDENCE - Apartament 2 camere  45125   \n",
       "978           MILITARI RESIDENCE - Apartament 2 camere  45125   \n",
       "979           MILITARI RESIDENCE - Apartament 2 camere  44175   \n",
       "980           MILITARI RESIDENCE - Apartament 2 camere  44175   \n",
       "981           MILITARI RESIDENCE - Apartament 2 camere  44175   \n",
       "\n",
       "                                               details      building_seller  \\\n",
       "0    ['49 m²', '45', '2', 'locuinta utilizata', 'ap...               Andrei   \n",
       "1    ['64 m²', '51', '2', 'locuinta noua', 'apartam...   Perfect Design SRL   \n",
       "2    ['64 m²', '51', '2', 'locuinta noua', 'apartam...   Perfect Design SRL   \n",
       "3    ['54 m²', '47.89', '2', 'apartament', 'decoman...  Andrei Alexandrescu   \n",
       "4    ['54 m²', '47.89', '2', 'apartament', 'decoman...    Cristian Draghici   \n",
       "..                                                 ...                  ...   \n",
       "977  ['54,15 m²', '47.5', '2', 'locuinta noua', 'ap...   Militari Residence   \n",
       "978  ['54,15 m²', '47.5', '2', 'locuinta noua', 'ap...   Militari Residence   \n",
       "979  ['53,01 m²', '46.5', '2', 'locuinta noua', 'ap...   Militari Residence   \n",
       "980  ['53,01 m²', '46.5', '2', 'locuinta noua', 'ap...   Militari Residence   \n",
       "981  ['53,01 m²', '46.5', '2', 'locuinta noua', 'ap...   Militari Residence   \n",
       "\n",
       "                     agency  \\\n",
       "0                Proprietar   \n",
       "1    OFERTA DEZVOLTATORULUI   \n",
       "2    OFERTA DEZVOLTATORULUI   \n",
       "3                   Agentie   \n",
       "4                   Agentie   \n",
       "..                      ...   \n",
       "977                 Agentie   \n",
       "978                 Agentie   \n",
       "979                 Agentie   \n",
       "980                 Agentie   \n",
       "981                 Agentie   \n",
       "\n",
       "                                                  link  built_area  \\\n",
       "0    https://www.storia.ro/ro/oferta/vand-apartamen...       49.00   \n",
       "1    https://www.storia.ro/ro/oferta/apartament-2-c...       64.00   \n",
       "2    https://www.storia.ro/ro/oferta/apartament-2-c...       64.00   \n",
       "3    https://www.storia.ro/ro/oferta/nou-apartament...       54.00   \n",
       "4    https://www.storia.ro/ro/oferta/apartament-2-c...       54.00   \n",
       "..                                                 ...         ...   \n",
       "977  https://www.storia.ro/ro/oferta/militari-resid...       54.15   \n",
       "978  https://www.storia.ro/ro/oferta/militari-resid...       54.15   \n",
       "979  https://www.storia.ro/ro/oferta/militari-resid...       53.01   \n",
       "980  https://www.storia.ro/ro/oferta/militari-resid...       53.01   \n",
       "981  https://www.storia.ro/ro/oferta/militari-resid...       53.01   \n",
       "\n",
       "     usable_area             type  year     floor orientation  \n",
       "0          45.00         utilizat  2014  Mansarda        vest  \n",
       "1          51.00              nou  2021         1       other  \n",
       "2          51.00              nou  2021         3       other  \n",
       "3          47.89  nu e specificat  2022         1       other  \n",
       "4          47.89  nu e specificat  2022         2       other  \n",
       "..           ...              ...   ...       ...         ...  \n",
       "977        47.50              nou  2020         7       other  \n",
       "978        47.50              nou  2020         1       other  \n",
       "979        46.50              nou  2020         8       other  \n",
       "980        46.50              nou  2020         7       other  \n",
       "981        46.50              nou  2020         3       other  \n",
       "\n",
       "[982 rows x 12 columns]"
      ]
     },
     "execution_count": 2,
     "metadata": {},
     "output_type": "execute_result"
    }
   ],
   "source": [
    "\n",
    "df = pd.read_excel('Apartamente-Chiajna-23-Feb-2022.xlsx')\n",
    "df"
   ]
  },
  {
   "cell_type": "markdown",
   "metadata": {},
   "source": [
    "Let's see the maximum and minimum price"
   ]
  },
  {
   "cell_type": "code",
   "execution_count": 5,
   "metadata": {},
   "outputs": [
    {
     "name": "stdout",
     "output_type": "stream",
     "text": [
      "Pretul maxim pe zona: 109000.\n",
      " Pretul minim pe zona: 4500\n"
     ]
    }
   ],
   "source": [
    "print('Pretul maxim pe zona: {}.\\n Pretul minim pe zona: {}.'.format(df['price'].max(), df['price'].min()))"
   ]
  },
  {
   "cell_type": "markdown",
   "metadata": {},
   "source": [
    "Let's see what is it whit this price so low"
   ]
  },
  {
   "cell_type": "code",
   "execution_count": 26,
   "metadata": {},
   "outputs": [
    {
     "data": {
      "text/plain": [
       "430    https://www.storia.ro/ro/oferta/apartament-2ca...\n",
       "Name: link, dtype: object"
      ]
     },
     "execution_count": 26,
     "metadata": {},
     "output_type": "execute_result"
    }
   ],
   "source": [
    "df['link'][df['price'] == 4500]"
   ]
  },
  {
   "cell_type": "markdown",
   "metadata": {},
   "source": [
    "The link is unavailable at this moment so I will get rid of it because no flats on this planet is just 4500 euro."
   ]
  },
  {
   "cell_type": "code",
   "execution_count": 31,
   "metadata": {},
   "outputs": [],
   "source": [
    "df.drop([430], inplace = True)"
   ]
  },
  {
   "cell_type": "code",
   "execution_count": 32,
   "metadata": {},
   "outputs": [
    {
     "data": {
      "text/plain": [
       "31900"
      ]
     },
     "execution_count": 32,
     "metadata": {},
     "output_type": "execute_result"
    }
   ],
   "source": [
    "df['price'].min()"
   ]
  },
  {
   "cell_type": "markdown",
   "metadata": {},
   "source": [
    "Let's see the average price of the flats in Chiajna "
   ]
  },
  {
   "cell_type": "code",
   "execution_count": 33,
   "metadata": {},
   "outputs": [
    {
     "data": {
      "text/plain": [
       "50670"
      ]
     },
     "execution_count": 33,
     "metadata": {},
     "output_type": "execute_result"
    }
   ],
   "source": [
    "avg_price = round(df['price'].mean())\n",
    "avg_price"
   ]
  },
  {
   "cell_type": "markdown",
   "metadata": {},
   "source": [
    "Let's see the average usable area and built area of these flats"
   ]
  },
  {
   "cell_type": "code",
   "execution_count": 34,
   "metadata": {},
   "outputs": [
    {
     "name": "stdout",
     "output_type": "stream",
     "text": [
      "Average built area is 58.2 m2, and average usable area is 51.3 m2\n"
     ]
    }
   ],
   "source": [
    "avg_usb = round(df['usable_area'].mean(), 1)\n",
    "avg_built = round(df['built_area'].mean(), 1)\n",
    "\n",
    "print('Average built area is {} m2, and average usable area is {} m2'.format(avg_built, avg_usb))"
   ]
  },
  {
   "cell_type": "code",
   "execution_count": 35,
   "metadata": {},
   "outputs": [
    {
     "data": {
      "text/plain": [
       "871"
      ]
     },
     "execution_count": 35,
     "metadata": {},
     "output_type": "execute_result"
    }
   ],
   "source": [
    "round(avg_price/avg_built)"
   ]
  },
  {
   "cell_type": "markdown",
   "metadata": {},
   "source": [
    "So in this zone the average price per built square meter is 870 Euro."
   ]
  },
  {
   "cell_type": "markdown",
   "metadata": {},
   "source": [
    "\n",
    "Let's see the distribution of flats depending on the seller type"
   ]
  },
  {
   "cell_type": "code",
   "execution_count": 36,
   "metadata": {},
   "outputs": [
    {
     "data": {
      "text/html": [
       "<div>\n",
       "<style scoped>\n",
       "    .dataframe tbody tr th:only-of-type {\n",
       "        vertical-align: middle;\n",
       "    }\n",
       "\n",
       "    .dataframe tbody tr th {\n",
       "        vertical-align: top;\n",
       "    }\n",
       "\n",
       "    .dataframe thead th {\n",
       "        text-align: right;\n",
       "    }\n",
       "</style>\n",
       "<table border=\"1\" class=\"dataframe\">\n",
       "  <thead>\n",
       "    <tr style=\"text-align: right;\">\n",
       "      <th></th>\n",
       "      <th>title</th>\n",
       "      <th>price</th>\n",
       "      <th>details</th>\n",
       "      <th>building_seller</th>\n",
       "      <th>link</th>\n",
       "      <th>built_area</th>\n",
       "      <th>usable_area</th>\n",
       "      <th>type</th>\n",
       "      <th>year</th>\n",
       "      <th>floor</th>\n",
       "      <th>orientation</th>\n",
       "    </tr>\n",
       "    <tr>\n",
       "      <th>agency</th>\n",
       "      <th></th>\n",
       "      <th></th>\n",
       "      <th></th>\n",
       "      <th></th>\n",
       "      <th></th>\n",
       "      <th></th>\n",
       "      <th></th>\n",
       "      <th></th>\n",
       "      <th></th>\n",
       "      <th></th>\n",
       "      <th></th>\n",
       "    </tr>\n",
       "  </thead>\n",
       "  <tbody>\n",
       "    <tr>\n",
       "      <th>Agentie</th>\n",
       "      <td>974</td>\n",
       "      <td>974</td>\n",
       "      <td>974</td>\n",
       "      <td>974</td>\n",
       "      <td>974</td>\n",
       "      <td>974</td>\n",
       "      <td>974</td>\n",
       "      <td>974</td>\n",
       "      <td>974</td>\n",
       "      <td>974</td>\n",
       "      <td>974</td>\n",
       "    </tr>\n",
       "    <tr>\n",
       "      <th>OFERTA DEZVOLTATORULUI</th>\n",
       "      <td>3</td>\n",
       "      <td>3</td>\n",
       "      <td>3</td>\n",
       "      <td>3</td>\n",
       "      <td>3</td>\n",
       "      <td>3</td>\n",
       "      <td>3</td>\n",
       "      <td>3</td>\n",
       "      <td>3</td>\n",
       "      <td>3</td>\n",
       "      <td>3</td>\n",
       "    </tr>\n",
       "    <tr>\n",
       "      <th>Proprietar</th>\n",
       "      <td>4</td>\n",
       "      <td>4</td>\n",
       "      <td>4</td>\n",
       "      <td>4</td>\n",
       "      <td>4</td>\n",
       "      <td>4</td>\n",
       "      <td>4</td>\n",
       "      <td>4</td>\n",
       "      <td>4</td>\n",
       "      <td>4</td>\n",
       "      <td>4</td>\n",
       "    </tr>\n",
       "  </tbody>\n",
       "</table>\n",
       "</div>"
      ],
      "text/plain": [
       "                        title  price  details  building_seller  link  \\\n",
       "agency                                                                 \n",
       "Agentie                   974    974      974              974   974   \n",
       "OFERTA DEZVOLTATORULUI      3      3        3                3     3   \n",
       "Proprietar                  4      4        4                4     4   \n",
       "\n",
       "                        built_area  usable_area  type  year  floor  \\\n",
       "agency                                                               \n",
       "Agentie                        974          974   974   974    974   \n",
       "OFERTA DEZVOLTATORULUI           3            3     3     3      3   \n",
       "Proprietar                       4            4     4     4      4   \n",
       "\n",
       "                        orientation  \n",
       "agency                               \n",
       "Agentie                         974  \n",
       "OFERTA DEZVOLTATORULUI            3  \n",
       "Proprietar                        4  "
      ]
     },
     "execution_count": 36,
     "metadata": {},
     "output_type": "execute_result"
    }
   ],
   "source": [
    "df.groupby('agency').count()"
   ]
  },
  {
   "cell_type": "code",
   "execution_count": 37,
   "metadata": {},
   "outputs": [
    {
     "data": {
      "image/png": "[encoded data removed]",
      "text/plain": [
       "<Figure size 864x432 with 1 Axes>"
      ]
     },
     "metadata": {},
     "output_type": "display_data"
    }
   ],
   "source": [
    "agency = df['agency'].value_counts()['Agentie']\n",
    "developer = df['agency'].value_counts()['OFERTA DEZVOLTATORULUI']\n",
    "owner = df['agency'].value_counts()['Proprietar']\n",
    "explode = [0.02, 2.5,2.5]\n",
    "\n",
    "values = [agency, developer, owner]\n",
    "labels = ['Agentie', 'OFERTA DEZVOLTATORULUI', 'Proprietar']\n",
    "\n",
    "fig = plt.figure(figsize=(12,6))\n",
    "plt.pie(values, labels = labels, autopct = '%1.1f%%', explode = explode )\n",
    "plt.tight_layout\n",
    "plt.show()"
   ]
  },
  {
   "cell_type": "markdown",
   "metadata": {},
   "source": [
    "This new's are not so great, for me especially, because agency means commision, that means another spending on to the budget<br>\n",
    "Let's see how many buildings are from each year."
   ]
  },
  {
   "cell_type": "code",
   "execution_count": 38,
   "metadata": {},
   "outputs": [
    {
     "data": {
      "text/html": [
       "<div>\n",
       "<style scoped>\n",
       "    .dataframe tbody tr th:only-of-type {\n",
       "        vertical-align: middle;\n",
       "    }\n",
       "\n",
       "    .dataframe tbody tr th {\n",
       "        vertical-align: top;\n",
       "    }\n",
       "\n",
       "    .dataframe thead th {\n",
       "        text-align: right;\n",
       "    }\n",
       "</style>\n",
       "<table border=\"1\" class=\"dataframe\">\n",
       "  <thead>\n",
       "    <tr style=\"text-align: right;\">\n",
       "      <th></th>\n",
       "      <th>title</th>\n",
       "      <th>price</th>\n",
       "      <th>details</th>\n",
       "      <th>building_seller</th>\n",
       "      <th>agency</th>\n",
       "      <th>link</th>\n",
       "      <th>built_area</th>\n",
       "      <th>usable_area</th>\n",
       "      <th>type</th>\n",
       "      <th>floor</th>\n",
       "      <th>orientation</th>\n",
       "    </tr>\n",
       "    <tr>\n",
       "      <th>year</th>\n",
       "      <th></th>\n",
       "      <th></th>\n",
       "      <th></th>\n",
       "      <th></th>\n",
       "      <th></th>\n",
       "      <th></th>\n",
       "      <th></th>\n",
       "      <th></th>\n",
       "      <th></th>\n",
       "      <th></th>\n",
       "      <th></th>\n",
       "    </tr>\n",
       "  </thead>\n",
       "  <tbody>\n",
       "    <tr>\n",
       "      <th>0</th>\n",
       "      <td>90</td>\n",
       "      <td>90</td>\n",
       "      <td>90</td>\n",
       "      <td>90</td>\n",
       "      <td>90</td>\n",
       "      <td>90</td>\n",
       "      <td>90</td>\n",
       "      <td>90</td>\n",
       "      <td>90</td>\n",
       "      <td>90</td>\n",
       "      <td>90</td>\n",
       "    </tr>\n",
       "    <tr>\n",
       "      <th>2008</th>\n",
       "      <td>3</td>\n",
       "      <td>3</td>\n",
       "      <td>3</td>\n",
       "      <td>3</td>\n",
       "      <td>3</td>\n",
       "      <td>3</td>\n",
       "      <td>3</td>\n",
       "      <td>3</td>\n",
       "      <td>3</td>\n",
       "      <td>3</td>\n",
       "      <td>3</td>\n",
       "    </tr>\n",
       "    <tr>\n",
       "      <th>2009</th>\n",
       "      <td>2</td>\n",
       "      <td>2</td>\n",
       "      <td>2</td>\n",
       "      <td>2</td>\n",
       "      <td>2</td>\n",
       "      <td>2</td>\n",
       "      <td>2</td>\n",
       "      <td>2</td>\n",
       "      <td>2</td>\n",
       "      <td>2</td>\n",
       "      <td>2</td>\n",
       "    </tr>\n",
       "    <tr>\n",
       "      <th>2010</th>\n",
       "      <td>8</td>\n",
       "      <td>8</td>\n",
       "      <td>8</td>\n",
       "      <td>8</td>\n",
       "      <td>8</td>\n",
       "      <td>8</td>\n",
       "      <td>8</td>\n",
       "      <td>8</td>\n",
       "      <td>8</td>\n",
       "      <td>8</td>\n",
       "      <td>8</td>\n",
       "    </tr>\n",
       "    <tr>\n",
       "      <th>2011</th>\n",
       "      <td>5</td>\n",
       "      <td>5</td>\n",
       "      <td>5</td>\n",
       "      <td>5</td>\n",
       "      <td>5</td>\n",
       "      <td>5</td>\n",
       "      <td>5</td>\n",
       "      <td>5</td>\n",
       "      <td>5</td>\n",
       "      <td>5</td>\n",
       "      <td>5</td>\n",
       "    </tr>\n",
       "    <tr>\n",
       "      <th>2012</th>\n",
       "      <td>1</td>\n",
       "      <td>1</td>\n",
       "      <td>1</td>\n",
       "      <td>1</td>\n",
       "      <td>1</td>\n",
       "      <td>1</td>\n",
       "      <td>1</td>\n",
       "      <td>1</td>\n",
       "      <td>1</td>\n",
       "      <td>1</td>\n",
       "      <td>1</td>\n",
       "    </tr>\n",
       "    <tr>\n",
       "      <th>2013</th>\n",
       "      <td>5</td>\n",
       "      <td>5</td>\n",
       "      <td>5</td>\n",
       "      <td>5</td>\n",
       "      <td>5</td>\n",
       "      <td>5</td>\n",
       "      <td>5</td>\n",
       "      <td>5</td>\n",
       "      <td>5</td>\n",
       "      <td>5</td>\n",
       "      <td>5</td>\n",
       "    </tr>\n",
       "    <tr>\n",
       "      <th>2014</th>\n",
       "      <td>6</td>\n",
       "      <td>6</td>\n",
       "      <td>6</td>\n",
       "      <td>6</td>\n",
       "      <td>6</td>\n",
       "      <td>6</td>\n",
       "      <td>6</td>\n",
       "      <td>6</td>\n",
       "      <td>6</td>\n",
       "      <td>6</td>\n",
       "      <td>6</td>\n",
       "    </tr>\n",
       "    <tr>\n",
       "      <th>2015</th>\n",
       "      <td>11</td>\n",
       "      <td>11</td>\n",
       "      <td>11</td>\n",
       "      <td>11</td>\n",
       "      <td>11</td>\n",
       "      <td>11</td>\n",
       "      <td>11</td>\n",
       "      <td>11</td>\n",
       "      <td>11</td>\n",
       "      <td>11</td>\n",
       "      <td>11</td>\n",
       "    </tr>\n",
       "    <tr>\n",
       "      <th>2016</th>\n",
       "      <td>8</td>\n",
       "      <td>8</td>\n",
       "      <td>8</td>\n",
       "      <td>8</td>\n",
       "      <td>8</td>\n",
       "      <td>8</td>\n",
       "      <td>8</td>\n",
       "      <td>8</td>\n",
       "      <td>8</td>\n",
       "      <td>8</td>\n",
       "      <td>8</td>\n",
       "    </tr>\n",
       "    <tr>\n",
       "      <th>2017</th>\n",
       "      <td>4</td>\n",
       "      <td>4</td>\n",
       "      <td>4</td>\n",
       "      <td>4</td>\n",
       "      <td>4</td>\n",
       "      <td>4</td>\n",
       "      <td>4</td>\n",
       "      <td>4</td>\n",
       "      <td>4</td>\n",
       "      <td>4</td>\n",
       "      <td>4</td>\n",
       "    </tr>\n",
       "    <tr>\n",
       "      <th>2018</th>\n",
       "      <td>20</td>\n",
       "      <td>20</td>\n",
       "      <td>20</td>\n",
       "      <td>20</td>\n",
       "      <td>20</td>\n",
       "      <td>20</td>\n",
       "      <td>20</td>\n",
       "      <td>20</td>\n",
       "      <td>20</td>\n",
       "      <td>20</td>\n",
       "      <td>20</td>\n",
       "    </tr>\n",
       "    <tr>\n",
       "      <th>2019</th>\n",
       "      <td>245</td>\n",
       "      <td>245</td>\n",
       "      <td>245</td>\n",
       "      <td>245</td>\n",
       "      <td>245</td>\n",
       "      <td>245</td>\n",
       "      <td>245</td>\n",
       "      <td>245</td>\n",
       "      <td>245</td>\n",
       "      <td>245</td>\n",
       "      <td>245</td>\n",
       "    </tr>\n",
       "    <tr>\n",
       "      <th>2020</th>\n",
       "      <td>515</td>\n",
       "      <td>515</td>\n",
       "      <td>515</td>\n",
       "      <td>515</td>\n",
       "      <td>515</td>\n",
       "      <td>515</td>\n",
       "      <td>515</td>\n",
       "      <td>515</td>\n",
       "      <td>515</td>\n",
       "      <td>515</td>\n",
       "      <td>515</td>\n",
       "    </tr>\n",
       "    <tr>\n",
       "      <th>2021</th>\n",
       "      <td>41</td>\n",
       "      <td>41</td>\n",
       "      <td>41</td>\n",
       "      <td>41</td>\n",
       "      <td>41</td>\n",
       "      <td>41</td>\n",
       "      <td>41</td>\n",
       "      <td>41</td>\n",
       "      <td>41</td>\n",
       "      <td>41</td>\n",
       "      <td>41</td>\n",
       "    </tr>\n",
       "    <tr>\n",
       "      <th>2022</th>\n",
       "      <td>16</td>\n",
       "      <td>16</td>\n",
       "      <td>16</td>\n",
       "      <td>16</td>\n",
       "      <td>16</td>\n",
       "      <td>16</td>\n",
       "      <td>16</td>\n",
       "      <td>16</td>\n",
       "      <td>16</td>\n",
       "      <td>16</td>\n",
       "      <td>16</td>\n",
       "    </tr>\n",
       "    <tr>\n",
       "      <th>2023</th>\n",
       "      <td>1</td>\n",
       "      <td>1</td>\n",
       "      <td>1</td>\n",
       "      <td>1</td>\n",
       "      <td>1</td>\n",
       "      <td>1</td>\n",
       "      <td>1</td>\n",
       "      <td>1</td>\n",
       "      <td>1</td>\n",
       "      <td>1</td>\n",
       "      <td>1</td>\n",
       "    </tr>\n",
       "  </tbody>\n",
       "</table>\n",
       "</div>"
      ],
      "text/plain": [
       "      title  price  details  building_seller  agency  link  built_area  \\\n",
       "year                                                                     \n",
       "0        90     90       90               90      90    90          90   \n",
       "2008      3      3        3                3       3     3           3   \n",
       "2009      2      2        2                2       2     2           2   \n",
       "2010      8      8        8                8       8     8           8   \n",
       "2011      5      5        5                5       5     5           5   \n",
       "2012      1      1        1                1       1     1           1   \n",
       "2013      5      5        5                5       5     5           5   \n",
       "2014      6      6        6                6       6     6           6   \n",
       "2015     11     11       11               11      11    11          11   \n",
       "2016      8      8        8                8       8     8           8   \n",
       "2017      4      4        4                4       4     4           4   \n",
       "2018     20     20       20               20      20    20          20   \n",
       "2019    245    245      245              245     245   245         245   \n",
       "2020    515    515      515              515     515   515         515   \n",
       "2021     41     41       41               41      41    41          41   \n",
       "2022     16     16       16               16      16    16          16   \n",
       "2023      1      1        1                1       1     1           1   \n",
       "\n",
       "      usable_area  type  floor  orientation  \n",
       "year                                         \n",
       "0              90    90     90           90  \n",
       "2008            3     3      3            3  \n",
       "2009            2     2      2            2  \n",
       "2010            8     8      8            8  \n",
       "2011            5     5      5            5  \n",
       "2012            1     1      1            1  \n",
       "2013            5     5      5            5  \n",
       "2014            6     6      6            6  \n",
       "2015           11    11     11           11  \n",
       "2016            8     8      8            8  \n",
       "2017            4     4      4            4  \n",
       "2018           20    20     20           20  \n",
       "2019          245   245    245          245  \n",
       "2020          515   515    515          515  \n",
       "2021           41    41     41           41  \n",
       "2022           16    16     16           16  \n",
       "2023            1     1      1            1  "
      ]
     },
     "execution_count": 38,
     "metadata": {},
     "output_type": "execute_result"
    }
   ],
   "source": [
    "df.groupby(by = 'year').count()"
   ]
  },
  {
   "cell_type": "markdown",
   "metadata": {},
   "source": [
    "Let's see some viz's"
   ]
  },
  {
   "cell_type": "code",
   "execution_count": 39,
   "metadata": {},
   "outputs": [
    {
     "data": {
      "text/plain": [
       "<AxesSubplot:xlabel='year', ylabel='count'>"
      ]
     },
     "execution_count": 39,
     "metadata": {},
     "output_type": "execute_result"
    },
    {
     "data": {
      "image/png": "[encoded data removed]",
      "text/plain": [
       "<Figure size 864x432 with 1 Axes>"
      ]
     },
     "metadata": {
      "needs_background": "light"
     },
     "output_type": "display_data"
    }
   ],
   "source": [
    "fig = plt.figure(figsize = (12, 6))\n",
    "sns.countplot(x = 'year', data = df)"
   ]
  },
  {
   "cell_type": "markdown",
   "metadata": {},
   "source": [
    "So it seems like the the majority of building apartments are construct in 2020 and not selled yet. Somehow this is plausible especially in the context of the pandemic. But I want to investigate this further more by analyzing the type of apartments to see if the majority are new or not."
   ]
  },
  {
   "cell_type": "code",
   "execution_count": 40,
   "metadata": {},
   "outputs": [
    {
     "data": {
      "text/plain": [
       "nou                826\n",
       "utilizat           121\n",
       "nu e specificat     34\n",
       "Name: type, dtype: int64"
      ]
     },
     "execution_count": 40,
     "metadata": {},
     "output_type": "execute_result"
    }
   ],
   "source": [
    "df['type'].value_counts()"
   ]
  },
  {
   "cell_type": "code",
   "execution_count": 41,
   "metadata": {},
   "outputs": [
    {
     "data": {
      "text/plain": [
       "<AxesSubplot:xlabel='type', ylabel='count'>"
      ]
     },
     "execution_count": 41,
     "metadata": {},
     "output_type": "execute_result"
    },
    {
     "data": {
      "image/png": "[encoded data removed]",
      "text/plain": [
       "<Figure size 432x288 with 1 Axes>"
      ]
     },
     "metadata": {
      "needs_background": "light"
     },
     "output_type": "display_data"
    }
   ],
   "source": [
    "fig = plt.figure()\n",
    "sns.countplot(x = 'type', data =df)"
   ]
  },
  {
   "cell_type": "markdown",
   "metadata": {},
   "source": [
    "By the amount of new flats then my previous guessing is true, due to pandemic flats from 2020 they were not sold.<br>\n",
    "Let's see the repartition of flats on floors"
   ]
  },
  {
   "cell_type": "code",
   "execution_count": 42,
   "metadata": {},
   "outputs": [
    {
     "data": {
      "text/html": [
       "<div>\n",
       "<style scoped>\n",
       "    .dataframe tbody tr th:only-of-type {\n",
       "        vertical-align: middle;\n",
       "    }\n",
       "\n",
       "    .dataframe tbody tr th {\n",
       "        vertical-align: top;\n",
       "    }\n",
       "\n",
       "    .dataframe thead th {\n",
       "        text-align: right;\n",
       "    }\n",
       "</style>\n",
       "<table border=\"1\" class=\"dataframe\">\n",
       "  <thead>\n",
       "    <tr style=\"text-align: right;\">\n",
       "      <th></th>\n",
       "      <th>title</th>\n",
       "      <th>price</th>\n",
       "      <th>details</th>\n",
       "      <th>building_seller</th>\n",
       "      <th>agency</th>\n",
       "      <th>link</th>\n",
       "      <th>built_area</th>\n",
       "      <th>usable_area</th>\n",
       "      <th>type</th>\n",
       "      <th>year</th>\n",
       "      <th>orientation</th>\n",
       "    </tr>\n",
       "    <tr>\n",
       "      <th>floor</th>\n",
       "      <th></th>\n",
       "      <th></th>\n",
       "      <th></th>\n",
       "      <th></th>\n",
       "      <th></th>\n",
       "      <th></th>\n",
       "      <th></th>\n",
       "      <th></th>\n",
       "      <th></th>\n",
       "      <th></th>\n",
       "      <th></th>\n",
       "    </tr>\n",
       "  </thead>\n",
       "  <tbody>\n",
       "    <tr>\n",
       "      <th>1</th>\n",
       "      <td>68</td>\n",
       "      <td>68</td>\n",
       "      <td>68</td>\n",
       "      <td>68</td>\n",
       "      <td>68</td>\n",
       "      <td>68</td>\n",
       "      <td>68</td>\n",
       "      <td>68</td>\n",
       "      <td>68</td>\n",
       "      <td>68</td>\n",
       "      <td>68</td>\n",
       "    </tr>\n",
       "    <tr>\n",
       "      <th>2</th>\n",
       "      <td>116</td>\n",
       "      <td>116</td>\n",
       "      <td>116</td>\n",
       "      <td>116</td>\n",
       "      <td>116</td>\n",
       "      <td>116</td>\n",
       "      <td>116</td>\n",
       "      <td>116</td>\n",
       "      <td>116</td>\n",
       "      <td>116</td>\n",
       "      <td>116</td>\n",
       "    </tr>\n",
       "    <tr>\n",
       "      <th>3</th>\n",
       "      <td>171</td>\n",
       "      <td>171</td>\n",
       "      <td>171</td>\n",
       "      <td>171</td>\n",
       "      <td>171</td>\n",
       "      <td>171</td>\n",
       "      <td>171</td>\n",
       "      <td>171</td>\n",
       "      <td>171</td>\n",
       "      <td>171</td>\n",
       "      <td>171</td>\n",
       "    </tr>\n",
       "    <tr>\n",
       "      <th>4</th>\n",
       "      <td>93</td>\n",
       "      <td>93</td>\n",
       "      <td>93</td>\n",
       "      <td>93</td>\n",
       "      <td>93</td>\n",
       "      <td>93</td>\n",
       "      <td>93</td>\n",
       "      <td>93</td>\n",
       "      <td>93</td>\n",
       "      <td>93</td>\n",
       "      <td>93</td>\n",
       "    </tr>\n",
       "    <tr>\n",
       "      <th>5</th>\n",
       "      <td>66</td>\n",
       "      <td>66</td>\n",
       "      <td>66</td>\n",
       "      <td>66</td>\n",
       "      <td>66</td>\n",
       "      <td>66</td>\n",
       "      <td>66</td>\n",
       "      <td>66</td>\n",
       "      <td>66</td>\n",
       "      <td>66</td>\n",
       "      <td>66</td>\n",
       "    </tr>\n",
       "    <tr>\n",
       "      <th>6</th>\n",
       "      <td>46</td>\n",
       "      <td>46</td>\n",
       "      <td>46</td>\n",
       "      <td>46</td>\n",
       "      <td>46</td>\n",
       "      <td>46</td>\n",
       "      <td>46</td>\n",
       "      <td>46</td>\n",
       "      <td>46</td>\n",
       "      <td>46</td>\n",
       "      <td>46</td>\n",
       "    </tr>\n",
       "    <tr>\n",
       "      <th>7</th>\n",
       "      <td>158</td>\n",
       "      <td>158</td>\n",
       "      <td>158</td>\n",
       "      <td>158</td>\n",
       "      <td>158</td>\n",
       "      <td>158</td>\n",
       "      <td>158</td>\n",
       "      <td>158</td>\n",
       "      <td>158</td>\n",
       "      <td>158</td>\n",
       "      <td>158</td>\n",
       "    </tr>\n",
       "    <tr>\n",
       "      <th>8</th>\n",
       "      <td>137</td>\n",
       "      <td>137</td>\n",
       "      <td>137</td>\n",
       "      <td>137</td>\n",
       "      <td>137</td>\n",
       "      <td>137</td>\n",
       "      <td>137</td>\n",
       "      <td>137</td>\n",
       "      <td>137</td>\n",
       "      <td>137</td>\n",
       "      <td>137</td>\n",
       "    </tr>\n",
       "    <tr>\n",
       "      <th>9</th>\n",
       "      <td>2</td>\n",
       "      <td>2</td>\n",
       "      <td>2</td>\n",
       "      <td>2</td>\n",
       "      <td>2</td>\n",
       "      <td>2</td>\n",
       "      <td>2</td>\n",
       "      <td>2</td>\n",
       "      <td>2</td>\n",
       "      <td>2</td>\n",
       "      <td>2</td>\n",
       "    </tr>\n",
       "    <tr>\n",
       "      <th>Demisol</th>\n",
       "      <td>7</td>\n",
       "      <td>7</td>\n",
       "      <td>7</td>\n",
       "      <td>7</td>\n",
       "      <td>7</td>\n",
       "      <td>7</td>\n",
       "      <td>7</td>\n",
       "      <td>7</td>\n",
       "      <td>7</td>\n",
       "      <td>7</td>\n",
       "      <td>7</td>\n",
       "    </tr>\n",
       "    <tr>\n",
       "      <th>Mansarda</th>\n",
       "      <td>3</td>\n",
       "      <td>3</td>\n",
       "      <td>3</td>\n",
       "      <td>3</td>\n",
       "      <td>3</td>\n",
       "      <td>3</td>\n",
       "      <td>3</td>\n",
       "      <td>3</td>\n",
       "      <td>3</td>\n",
       "      <td>3</td>\n",
       "      <td>3</td>\n",
       "    </tr>\n",
       "    <tr>\n",
       "      <th>Parter</th>\n",
       "      <td>107</td>\n",
       "      <td>107</td>\n",
       "      <td>107</td>\n",
       "      <td>107</td>\n",
       "      <td>107</td>\n",
       "      <td>107</td>\n",
       "      <td>107</td>\n",
       "      <td>107</td>\n",
       "      <td>107</td>\n",
       "      <td>107</td>\n",
       "      <td>107</td>\n",
       "    </tr>\n",
       "    <tr>\n",
       "      <th>other</th>\n",
       "      <td>7</td>\n",
       "      <td>7</td>\n",
       "      <td>7</td>\n",
       "      <td>7</td>\n",
       "      <td>7</td>\n",
       "      <td>7</td>\n",
       "      <td>7</td>\n",
       "      <td>7</td>\n",
       "      <td>7</td>\n",
       "      <td>7</td>\n",
       "      <td>7</td>\n",
       "    </tr>\n",
       "  </tbody>\n",
       "</table>\n",
       "</div>"
      ],
      "text/plain": [
       "          title  price  details  building_seller  agency  link  built_area  \\\n",
       "floor                                                                        \n",
       "1            68     68       68               68      68    68          68   \n",
       "2           116    116      116              116     116   116         116   \n",
       "3           171    171      171              171     171   171         171   \n",
       "4            93     93       93               93      93    93          93   \n",
       "5            66     66       66               66      66    66          66   \n",
       "6            46     46       46               46      46    46          46   \n",
       "7           158    158      158              158     158   158         158   \n",
       "8           137    137      137              137     137   137         137   \n",
       "9             2      2        2                2       2     2           2   \n",
       "Demisol       7      7        7                7       7     7           7   \n",
       "Mansarda      3      3        3                3       3     3           3   \n",
       "Parter      107    107      107              107     107   107         107   \n",
       "other         7      7        7                7       7     7           7   \n",
       "\n",
       "          usable_area  type  year  orientation  \n",
       "floor                                           \n",
       "1                  68    68    68           68  \n",
       "2                 116   116   116          116  \n",
       "3                 171   171   171          171  \n",
       "4                  93    93    93           93  \n",
       "5                  66    66    66           66  \n",
       "6                  46    46    46           46  \n",
       "7                 158   158   158          158  \n",
       "8                 137   137   137          137  \n",
       "9                   2     2     2            2  \n",
       "Demisol             7     7     7            7  \n",
       "Mansarda            3     3     3            3  \n",
       "Parter            107   107   107          107  \n",
       "other               7     7     7            7  "
      ]
     },
     "execution_count": 42,
     "metadata": {},
     "output_type": "execute_result"
    }
   ],
   "source": [
    "df.groupby(by = 'floor').count()"
   ]
  },
  {
   "cell_type": "code",
   "execution_count": 43,
   "metadata": {},
   "outputs": [
    {
     "data": {
      "text/plain": [
       "<AxesSubplot:xlabel='floor', ylabel='count'>"
      ]
     },
     "execution_count": 43,
     "metadata": {},
     "output_type": "execute_result"
    },
    {
     "data": {
      "image/png": "[encoded data removed]",
      "text/plain": [
       "<Figure size 864x432 with 1 Axes>"
      ]
     },
     "metadata": {
      "needs_background": "light"
     },
     "output_type": "display_data"
    }
   ],
   "source": [
    "fig = plt.figure(figsize = (12,6))\n",
    "sns.countplot(x = 'floor', data = df)"
   ]
  },
  {
   "cell_type": "markdown",
   "metadata": {},
   "source": [
    "It seems like the majority of available flats are on 3 rd floor and parter 2 nd, 4th floors.<br>\n",
    "Let's see if there are some correlation between price and surface"
   ]
  },
  {
   "cell_type": "code",
   "execution_count": 45,
   "metadata": {},
   "outputs": [
    {
     "data": {
      "text/plain": [
       "<AxesSubplot:xlabel='price', ylabel='built_area'>"
      ]
     },
     "execution_count": 45,
     "metadata": {},
     "output_type": "execute_result"
    },
    {
     "data": {
      "image/png": "[encoded data removed]",
      "text/plain": [
       "<Figure size 1728x432 with 3 Axes>"
      ]
     },
     "metadata": {
      "needs_background": "light"
     },
     "output_type": "display_data"
    }
   ],
   "source": [
    "fig, ax = plt.subplots(nrows = 1, ncols = 3, figsize = (24,6))\n",
    "sns.scatterplot(x = 'price', y = 'built_area', data = df, ax = ax[0])\n",
    "sns.scatterplot(x = 'price', y = 'usable_area', data = df, ax = ax[1])\n",
    "sns.scatterplot(x = 'price', y = 'built_area', data = df, ax = ax[2])\n",
    "sns.scatterplot(x = 'price', y = 'usable_area', data = df, ax = ax[2])"
   ]
  },
  {
   "cell_type": "markdown",
   "metadata": {},
   "source": [
    "So Appears that the price is influenced more by the built_area than the usable one."
   ]
  },
  {
   "cell_type": "code",
   "execution_count": 46,
   "metadata": {},
   "outputs": [
    {
     "data": {
      "text/plain": [
       "<AxesSubplot:xlabel='price', ylabel='floor'>"
      ]
     },
     "execution_count": 46,
     "metadata": {},
     "output_type": "execute_result"
    },
    {
     "data": {
      "image/png": "[encoded data removed]",
      "text/plain": [
       "<Figure size 432x288 with 1 Axes>"
      ]
     },
     "metadata": {
      "needs_background": "light"
     },
     "output_type": "display_data"
    }
   ],
   "source": [
    "fig = plt.figure()\n",
    "sns.scatterplot(x = 'price', y = 'floor', data = df)"
   ]
  },
  {
   "cell_type": "markdown",
   "metadata": {},
   "source": [
    "I can't see any correlation between floor and price"
   ]
  },
  {
   "cell_type": "code",
   "execution_count": 47,
   "metadata": {},
   "outputs": [
    {
     "data": {
      "text/plain": [
       "<AxesSubplot:xlabel='price', ylabel='orientation'>"
      ]
     },
     "execution_count": 47,
     "metadata": {},
     "output_type": "execute_result"
    },
    {
     "data": {
      "image/png": "[encoded data removed]",
      "text/plain": [
       "<Figure size 432x288 with 1 Axes>"
      ]
     },
     "metadata": {
      "needs_background": "light"
     },
     "output_type": "display_data"
    }
   ],
   "source": [
    "fig = plt.figure()\n",
    "sns.scatterplot(x = 'price', y = 'orientation', data = df)"
   ]
  },
  {
   "cell_type": "markdown",
   "metadata": {},
   "source": [
    "I can't see any correlation between floor and price\n",
    "\n",
    "## Conclusion\n",
    "\n",
    "### This analysis is an overview of the real estate market in Chiajna Area<br>\n",
    "So in the Chiajna Area seems like there are many building apartments from 2020 unocupied due to pandemic. Average price on this zone at 23 Feb 2022 is 50670 Euro which is good, is in my budget. Price seems to depend more of the built area then the floor or orientation.<br>\n",
    "Next step for me?<br>\n",
    "<b>Going to apartment views!<b>"
   ]
  }
 ],
 "metadata": {
  "interpreter": {
   "hash": "bc03692caa85b52f1845ffcba6caa7be7ca80638b6ad51b774c34931867fd5f8"
  },
  "kernelspec": {
   "display_name": "Python 3.9.7 ('base')",
   "language": "python",
   "name": "python3"
  },
  "language_info": {
   "codemirror_mode": {
    "name": "ipython",
    "version": 3
   },
   "file_extension": ".py",
   "mimetype": "text/x-python",
   "name": "python",
   "nbconvert_exporter": "python",
   "pygments_lexer": "ipython3",
   "version": "3.9.7"
  },
  "orig_nbformat": 4
 },
 "nbformat": 4,
 "nbformat_minor": 2
}
